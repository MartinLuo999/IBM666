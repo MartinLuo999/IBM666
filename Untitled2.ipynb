{
 "cells": [
  {
   "cell_type": "markdown",
   "id": "883ea44f",
   "metadata": {},
   "source": [
    "## Data Science Tools and Ecosystem ##"
   ]
  },
  {
   "cell_type": "markdown",
   "id": "c1ea0340",
   "metadata": {},
   "source": [
    "**Introduction**\n",
    "**In this notebook, Data Science Tools and Ecosystem are summarized.**"
   ]
  },
  {
   "cell_type": "markdown",
   "id": "7a8f61e8",
   "metadata": {},
   "source": [
    "Some of the popular languages that Data Scientists use are:\n",
    "1. R\n",
    "2. Python\n",
    "3. SQL\n",
    "4. Java"
   ]
  },
  {
   "cell_type": "markdown",
   "id": "b8c66436",
   "metadata": {},
   "source": [
    "Some of the commonly used libraries used by Data Scientists include:\n",
    "1. TensorFlow\n",
    "2. NumPy\n",
    "3. SciPy\n",
    "4. Pandas\n",
    "5. Matplotlib"
   ]
  },
  {
   "cell_type": "markdown",
   "id": "4423b9de",
   "metadata": {},
   "source": [
    "### Data Science Tools\n",
    "\n",
    "| Stretch/Untouched | ProbDistribution | Accuracy |\n",
    "| --- | --- | --- |\n",
    "| Stretched | Gaussian | .843 |"
   ]
  },
  {
   "cell_type": "markdown",
   "id": "7cb0f9cc",
   "metadata": {},
   "source": [
    "Below are a few examples of evaluating arithmetic expressions in Python\n",
    "\n",
    "$\\hat{Y} = \\hat{\\beta}_{0} + \\sum \\limits _{j=1} ^{p} X_{j}\\hat{\\beta}_{j} $"
   ]
  },
  {
   "cell_type": "code",
   "execution_count": 2,
   "id": "348dea8c",
   "metadata": {},
   "outputs": [
    {
     "data": {
      "text/plain": [
       "30"
      ]
     },
     "execution_count": 2,
     "metadata": {},
     "output_type": "execute_result"
    }
   ],
   "source": [
    "(3+3) *5"
   ]
  },
  {
   "cell_type": "code",
   "execution_count": 6,
   "id": "cafb75e6",
   "metadata": {},
   "outputs": [
    {
     "name": "stdout",
     "output_type": "stream",
     "text": [
      "3.3333333333333335\n"
     ]
    }
   ],
   "source": [
    "# This function converts minutes to hours\n",
    "def convert_minutes_to_hours(minutes):\n",
    "    hours = minutes / 60\n",
    "    return hours\n",
    "\n",
    "# Convert 200 minutes to hours\n",
    "minutes = 200\n",
    "hours = convert_minutes_to_hours(minutes)\n",
    "print(hours)"
   ]
  },
  {
   "cell_type": "markdown",
   "id": "32e9cdbe",
   "metadata": {},
   "source": [
    "### Objectives:\n",
    "1. R\n",
    "2. Python\n",
    "3. SQL\n",
    "4. Java"
   ]
  },
  {
   "cell_type": "markdown",
   "id": "9aed0417",
   "metadata": {},
   "source": [
    "## Martin"
   ]
  },
  {
   "cell_type": "code",
   "execution_count": null,
   "id": "56aeb67d",
   "metadata": {},
   "outputs": [],
   "source": []
  }
 ],
 "metadata": {
  "kernelspec": {
   "display_name": "Python 3 (ipykernel)",
   "language": "python",
   "name": "python3"
  },
  "language_info": {
   "codemirror_mode": {
    "name": "ipython",
    "version": 3
   },
   "file_extension": ".py",
   "mimetype": "text/x-python",
   "name": "python",
   "nbconvert_exporter": "python",
   "pygments_lexer": "ipython3",
   "version": "3.9.13"
  }
 },
 "nbformat": 4,
 "nbformat_minor": 5
}
